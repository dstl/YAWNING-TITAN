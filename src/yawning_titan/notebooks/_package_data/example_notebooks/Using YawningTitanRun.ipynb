{
 "cells": [
  {
   "cell_type": "code",
   "execution_count": null,
   "id": "47e6530a",
   "metadata": {},
   "outputs": [],
   "source": [
    "from yawning_titan.yawning_titan_run import YawningTitanRun"
   ]
  },
  {
   "cell_type": "markdown",
   "id": "4b54ee1e",
   "metadata": {},
   "source": [
    "## View the `YawningTitanRun` class documentation\n",
    "This allows you to see what can be configured in the constructor"
   ]
  },
  {
   "cell_type": "code",
   "execution_count": null,
   "id": "c691f7ee-d492-48b9-820d-c0aef55ab009",
   "metadata": {
    "tags": []
   },
   "outputs": [],
   "source": [
    "help(YawningTitanRun)"
   ]
  },
  {
   "cell_type": "markdown",
   "id": "dd186133",
   "metadata": {},
   "source": [
    "## Initialise the instance of `YawningTitanRun`\n",
    "Here we have set evaluation frequency to 100, the number of timesteps 2000, and the number of evaulation episodes to 10.\n",
    "\n",
    "We have also configured it so that metrics are printed and additional timestep data is printed.\n",
    "\n",
    "Finally, we have set auto to False so we can manually trigger the steps."
   ]
  },
  {
   "cell_type": "code",
   "execution_count": null,
   "id": "048b6a04",
   "metadata": {},
   "outputs": [],
   "source": [
    "yt_run = YawningTitanRun(\n",
    "    eval_freq=100, \n",
    "    total_timesteps=2000,\n",
    "    n_eval_episodes=10,\n",
    "    print_metrics=True,\n",
    "    collect_additional_per_ts_data=True,\n",
    ")"
   ]
  },
  {
   "cell_type": "markdown",
   "id": "5bbaa3ab",
   "metadata": {},
   "source": [
    "## Setup the instance of `YawningTitanRun`\n",
    "Here we call `.setup()` which builds the environment."
   ]
  },
  {
   "cell_type": "code",
   "execution_count": null,
   "id": "0f2da1cc",
   "metadata": {},
   "outputs": [],
   "source": [
    "yt_run.setup()"
   ]
  },
  {
   "cell_type": "markdown",
   "id": "4dd5f277",
   "metadata": {},
   "source": [
    "## Train the agent\n",
    "Here we call `.train()` which begins training the agent."
   ]
  },
  {
   "cell_type": "code",
   "execution_count": null,
   "id": "d0b1ee77",
   "metadata": {},
   "outputs": [],
   "source": [
    "yt_run.train()"
   ]
  },
  {
   "cell_type": "markdown",
   "id": "7ea7c044",
   "metadata": {},
   "source": [
    "## Evaluate the agent\n",
    "Here we call `.evaluate()` which performs the agent evaluation."
   ]
  },
  {
   "cell_type": "code",
   "execution_count": null,
   "id": "5abbd915",
   "metadata": {},
   "outputs": [],
   "source": [
    "yt_run.evaluate()"
   ]
  },
  {
   "cell_type": "markdown",
   "id": "13eb2adc",
   "metadata": {},
   "source": [
    "## Save the agent\n",
    "Here we call `.save()` which saves the agent. The file path that is printed out is where the agent is saved to."
   ]
  },
  {
   "cell_type": "code",
   "execution_count": null,
   "id": "50781654",
   "metadata": {},
   "outputs": [],
   "source": [
    "save_path = yt_run.save()\n",
    "print(save_path)"
   ]
  },
  {
   "cell_type": "markdown",
   "id": "5e3dbecd",
   "metadata": {},
   "source": [
    "## Export the agent\n",
    "Here we call `.export()` which packages and exports the agent. The file path that is printed out is where the agent is saved to."
   ]
  },
  {
   "cell_type": "code",
   "execution_count": null,
   "id": "525c4681",
   "metadata": {},
   "outputs": [],
   "source": [
    "export_path = yt_run.export()\n",
    "print(export_path)"
   ]
  }
 ],
 "metadata": {
  "kernelspec": {
   "display_name": "Python 3 (ipykernel)",
   "language": "python",
   "name": "python3"
  },
  "language_info": {
   "codemirror_mode": {
    "name": "ipython",
    "version": 3
   },
   "file_extension": ".py",
   "mimetype": "text/x-python",
   "name": "python",
   "nbconvert_exporter": "python",
   "pygments_lexer": "ipython3",
   "version": "3.10.9"
  }
 },
 "nbformat": 4,
 "nbformat_minor": 5
}
