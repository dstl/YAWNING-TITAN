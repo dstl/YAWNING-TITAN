{
 "cells": [
  {
   "cell_type": "code",
   "execution_count": null,
   "id": "32a302ec-6d6e-486c-ac02-a0b9776b5586",
   "metadata": {
    "tags": []
   },
   "outputs": [],
   "source": [
    "from yawning_titan.networks.node import Node\n",
    "from yawning_titan.networks.network import Network"
   ]
  },
  {
   "cell_type": "markdown",
   "id": "0bbacd23-70ce-4ebb-a6e3-b87ec55ce4ff",
   "metadata": {},
   "source": [
    "### Network\n",
    "First, we must instantiate a Network.\n",
    "\n",
    "While Network can be instantiated right out of the box by calling `Network()`, there are some configurable parameters that you can set (we'll get onto these further down)."
   ]
  },
  {
   "cell_type": "code",
   "execution_count": null,
   "id": "826cb099-59e4-4fdd-a2f0-f0c4366be7b7",
   "metadata": {
    "tags": []
   },
   "outputs": [],
   "source": [
    "network = Network()"
   ]
  },
  {
   "cell_type": "markdown",
   "id": "bcfc01c4-addf-41e9-87a5-e731da61471e",
   "metadata": {},
   "source": [
    "When we print the Network we can see that it has a uuid, it has 0 nodes, and it is not locked. The 'not locked' means it is not a default Network provided by Yawning-Titan and can therefore be edited."
   ]
  },
  {
   "cell_type": "code",
   "execution_count": null,
   "id": "c813b20f-44bc-47f4-8437-057d5c08ec85",
   "metadata": {
    "tags": []
   },
   "outputs": [],
   "source": [
    "network"
   ]
  },
  {
   "cell_type": "markdown",
   "id": "0069d5c8-f6fd-4bff-8007-120d792b4319",
   "metadata": {},
   "source": [
    "### Node\n",
    "Next, we instantiate a Node.\n",
    "\n",
    "Again, while Node can be instantiated right out of the box by calling `Node()`, there are some configurable parameters that you can set (we'll get onto these further down)."
   ]
  },
  {
   "cell_type": "code",
   "execution_count": null,
   "id": "48dda9a7-03ab-48ce-874a-e6cb3a694a44",
   "metadata": {
    "tags": []
   },
   "outputs": [],
   "source": [
    "node_1 = Node()\n",
    "node_2 = Node()\n",
    "node_3 = Node()\n",
    "node_4 = Node()\n",
    "node_5 = Node()\n",
    "node_6 = Node()"
   ]
  },
  {
   "cell_type": "markdown",
   "id": "43294451-067d-4310-9237-dcbc143df5bb",
   "metadata": {},
   "source": [
    "When we print a Node we can see that it has a uuid, is not a high value node, it not an entry node, has a vulnerability of 0.01, and has x and y coordinates of 0.0, 0.0 respectively."
   ]
  },
  {
   "cell_type": "code",
   "execution_count": null,
   "id": "c34037b6-bc2b-4009-87a7-83aa4c05f37e",
   "metadata": {
    "tags": []
   },
   "outputs": [],
   "source": [
    "node_1"
   ]
  },
  {
   "cell_type": "markdown",
   "id": "46264e19-409f-4e49-b6ed-2ee5eb4101e7",
   "metadata": {},
   "source": [
    "### Adding Node to Network\n",
    "Currently we only have an instance of Network and some instances of Node.\n",
    "\n",
    "To add a Node to a Network we need to call `.add_node()`."
   ]
  },
  {
   "cell_type": "code",
   "execution_count": null,
   "id": "ce9819e2-cdbc-42c5-ab0c-aa26e0280583",
   "metadata": {
    "tags": []
   },
   "outputs": [],
   "source": [
    "network.add_node(node_1)\n",
    "network.add_node(node_2)\n",
    "network.add_node(node_3)\n",
    "network.add_node(node_4)\n",
    "network.add_node(node_5)\n",
    "network.add_node(node_6)"
   ]
  },
  {
   "cell_type": "markdown",
   "id": "962fb047-dc0b-45c9-b1d1-3ecd038e6b9c",
   "metadata": {},
   "source": [
    "Now we can call `.show()` on the Network to show all Nodes. Passing `verbose=True` gives full details."
   ]
  },
  {
   "cell_type": "code",
   "execution_count": null,
   "id": "eb9a2534-f7e4-42c7-a29b-01f61ce6f65f",
   "metadata": {
    "tags": []
   },
   "outputs": [],
   "source": [
    "network.show(verbose=True)"
   ]
  },
  {
   "cell_type": "markdown",
   "id": "ef85868a-5da6-48ff-a1e7-4d1461be5c1f",
   "metadata": {},
   "source": [
    "Additionally, when we print a Node, we can see that the x and y coordinates have been updated. This is because when ever a new Node is added to the Network, the Network layout is regenerated to account for the new Node."
   ]
  },
  {
   "cell_type": "code",
   "execution_count": null,
   "id": "89eb738c-a3a5-4002-9056-33a7c3bddc7d",
   "metadata": {},
   "outputs": [],
   "source": [
    "node_1"
   ]
  },
  {
   "cell_type": "markdown",
   "id": "d26eec77-dcde-47c5-8bb8-dc21914b7111",
   "metadata": {},
   "source": [
    "### Joining Node's in the Network\n",
    "With our Node's added to the Network, we can begin joining them by calling `.add_edge()`."
   ]
  },
  {
   "cell_type": "code",
   "execution_count": null,
   "id": "8c794c40-f5a3-493c-8cd2-261bdb5a69aa",
   "metadata": {
    "tags": []
   },
   "outputs": [],
   "source": [
    "network.add_edge(node_1, node_2)\n",
    "network.add_edge(node_1, node_3)\n",
    "network.add_edge(node_1, node_4)\n",
    "network.add_edge(node_2, node_5)\n",
    "network.add_edge(node_2, node_6)"
   ]
  },
  {
   "cell_type": "markdown",
   "id": "1259efe0-ba26-4e10-b119-bb6f608de0fc",
   "metadata": {},
   "source": [
    "### Entry Nodes\n",
    "Nodes can be configured as being entry nodes."
   ]
  },
  {
   "cell_type": "markdown",
   "id": "0ce6069c-99d5-43fc-b5f1-60ebe4a0ec86",
   "metadata": {},
   "source": [
    "##### This can be done manually via the Node."
   ]
  },
  {
   "cell_type": "code",
   "execution_count": null,
   "id": "73a2b294-5f09-4d15-8a1e-f8fa1adc3b1b",
   "metadata": {
    "tags": []
   },
   "outputs": [],
   "source": [
    "node_1.entry_node = True"
   ]
  },
  {
   "cell_type": "code",
   "execution_count": null,
   "id": "913f53dc-3989-43ef-9a72-70d69b0bab1b",
   "metadata": {
    "tags": []
   },
   "outputs": [],
   "source": [
    "node_1"
   ]
  },
  {
   "cell_type": "markdown",
   "id": "ff129ac1-f5ca-469a-be3b-fe9a7feb9274",
   "metadata": {},
   "source": [
    "##### And automatically via the Network.\n",
    "\n",
    "This route enables you to set a number of desired entry nodes, and to have a preference over central nodes, edge nodes, or no preference."
   ]
  },
  {
   "cell_type": "code",
   "execution_count": null,
   "id": "9f037e55-cae7-4b85-9db8-ad4e8c11fe52",
   "metadata": {
    "tags": []
   },
   "outputs": [],
   "source": [
    "from yawning_titan.networks.network import RandomEntryNodePreference\n",
    "\n",
    "network.set_random_entry_nodes = True\n",
    "network.num_of_random_entry_nodes = 1\n",
    "network.random_entry_node_preference = RandomEntryNodePreference.EDGE\n",
    "\n",
    "network.reset_random_entry_nodes()"
   ]
  },
  {
   "cell_type": "markdown",
   "id": "4528497e-78f4-4aa6-832d-b89df446dbdd",
   "metadata": {},
   "source": [
    "Now if we show the Network we can see that random entry node has been set."
   ]
  },
  {
   "cell_type": "code",
   "execution_count": null,
   "id": "ae77c227-3f9e-4a05-a51e-60ca89bf8035",
   "metadata": {
    "tags": []
   },
   "outputs": [],
   "source": [
    "network.show(verbose=True)"
   ]
  },
  {
   "cell_type": "markdown",
   "id": "9eec684e-30c2-4962-8d78-dcfe8efa1383",
   "metadata": {},
   "source": [
    "### High Value Nodes\n",
    "Nodes can be configured as being high value nodes."
   ]
  },
  {
   "cell_type": "markdown",
   "id": "c0e1db32-b624-4397-8fec-45e1ff4075f6",
   "metadata": {},
   "source": [
    "##### This can be done manually via the Node."
   ]
  },
  {
   "cell_type": "code",
   "execution_count": null,
   "id": "3a9a340d-b615-4132-8292-94ae36371038",
   "metadata": {
    "tags": []
   },
   "outputs": [],
   "source": [
    "node_1.high_value_node = True"
   ]
  },
  {
   "cell_type": "code",
   "execution_count": null,
   "id": "7cd6f988-69ea-4496-8f84-dc73e7b505e4",
   "metadata": {
    "tags": []
   },
   "outputs": [],
   "source": [
    "node_1"
   ]
  },
  {
   "cell_type": "markdown",
   "id": "74500403-0bef-4b42-9245-ab1949e7974e",
   "metadata": {},
   "source": [
    "##### And automatically via the Network.\n",
    "\n",
    "This route enables you to set a number of desired high value nodes, and to have a preference over furthest away from entry nodes, or no preference."
   ]
  },
  {
   "cell_type": "code",
   "execution_count": null,
   "id": "a03d1abf-74c5-40a3-bfa2-3cc938153ad4",
   "metadata": {
    "tags": []
   },
   "outputs": [],
   "source": [
    "from yawning_titan.networks.network import RandomHighValueNodePreference\n",
    "\n",
    "network.set_random_high_value_nodes = True\n",
    "network.num_of_random_high_value_nodes = 1\n",
    "network.random_high_value_node_preference = RandomHighValueNodePreference.FURTHEST_AWAY_FROM_ENTRY\n",
    "\n",
    "network.reset_random_high_value_nodes()"
   ]
  },
  {
   "cell_type": "markdown",
   "id": "f92aacbf-fc3f-42dd-8286-b8c1bed5125a",
   "metadata": {},
   "source": [
    "Now if we show the Network we can see that random high value node has been set."
   ]
  },
  {
   "cell_type": "code",
   "execution_count": null,
   "id": "d92ad01e-595f-4026-b4fb-d849c6808ccc",
   "metadata": {
    "tags": []
   },
   "outputs": [],
   "source": [
    "network.show(verbose=True)"
   ]
  },
  {
   "cell_type": "markdown",
   "id": "dd516da8-5563-4a8a-8aab-6fe845c117a5",
   "metadata": {},
   "source": [
    "### Node Vulnerability Score\n",
    "Nodes can be configured with a vulnerability score."
   ]
  },
  {
   "cell_type": "markdown",
   "id": "a9473b02-6939-4069-901f-8d60f8c70fb6",
   "metadata": {},
   "source": [
    "##### This can be done manually via the Node."
   ]
  },
  {
   "cell_type": "code",
   "execution_count": null,
   "id": "24f2ad48-307b-4458-8804-419c836ca71a",
   "metadata": {
    "tags": []
   },
   "outputs": [],
   "source": [
    "node_1.vulnerability = 0.5"
   ]
  },
  {
   "cell_type": "code",
   "execution_count": null,
   "id": "86c6e577-0a37-43e4-955b-69984decb21a",
   "metadata": {
    "tags": []
   },
   "outputs": [],
   "source": [
    "node_1"
   ]
  },
  {
   "cell_type": "markdown",
   "id": "0a3b14df-7214-452c-a53a-3207054c69e5",
   "metadata": {},
   "source": [
    "##### And automatically via the Network."
   ]
  },
  {
   "cell_type": "code",
   "execution_count": null,
   "id": "2fedd8e5-b9d0-4a16-bbfb-1b8080a3295e",
   "metadata": {
    "tags": []
   },
   "outputs": [],
   "source": [
    "network.set_random_vulnerabilities = True\n",
    "\n",
    "network.reset_random_vulnerabilities()"
   ]
  },
  {
   "cell_type": "markdown",
   "id": "9ff04f22-101e-4e9e-a304-02466f34f721",
   "metadata": {},
   "source": [
    "Now if we show the Network we can see that random vulnerability scores have been set."
   ]
  },
  {
   "cell_type": "code",
   "execution_count": null,
   "id": "1b4917f1-6d75-4b35-a9b7-c0268397aed7",
   "metadata": {
    "tags": []
   },
   "outputs": [],
   "source": [
    "network.show(verbose=True)"
   ]
  },
  {
   "cell_type": "markdown",
   "id": "18d2fc2e-c0d1-4b62-8ec6-ce7c98e530a9",
   "metadata": {},
   "source": [
    "# Piecing it all together\n",
    "Here we will create the corporate network that is used as a fixture in the Yawning-Titan tests (`tests.conftest.corporate_network`).\n",
    "\n",
    "Names are added to each of the nodes for when they're displayed in a network graph."
   ]
  },
  {
   "cell_type": "markdown",
   "id": "6631be3a-3b8f-4c30-8767-fe9ee79fc05e",
   "metadata": {},
   "source": [
    "##### 1. Instantiate the Network"
   ]
  },
  {
   "cell_type": "code",
   "execution_count": null,
   "id": "0e8b7313-c107-4ad7-a8b4-cddaaf99fa41",
   "metadata": {
    "tags": []
   },
   "outputs": [],
   "source": [
    "network = Network(\n",
    "    set_random_entry_nodes=True,\n",
    "    num_of_random_entry_nodes=3,\n",
    "    set_random_high_value_nodes=True,\n",
    "    num_of_random_high_value_nodes=2,\n",
    "    set_random_vulnerabilities=True,\n",
    ")\n",
    "network"
   ]
  },
  {
   "cell_type": "markdown",
   "id": "f59f0e72-c787-4905-a1ae-cd25840994e8",
   "metadata": {},
   "source": [
    "##### 2. Instantiate the Node's and add them to the Network"
   ]
  },
  {
   "cell_type": "code",
   "execution_count": null,
   "id": "c9f4aa08-da9d-4146-8b4b-1471a97869bb",
   "metadata": {
    "tags": []
   },
   "outputs": [],
   "source": [
    "router_1 = Node(\"Router 1\")\n",
    "network.add_node(router_1)\n",
    "\n",
    "switch_1 = Node(\"Switch 1\")\n",
    "network.add_node(switch_1)\n",
    "\n",
    "switch_2 = Node(\"Switch 2\")\n",
    "network.add_node(switch_2)\n",
    "\n",
    "pc_1 = Node(\"PC 1\")\n",
    "network.add_node(pc_1)\n",
    "\n",
    "pc_2 = Node(\"PC 2\")\n",
    "network.add_node(pc_2)\n",
    "\n",
    "pc_3 = Node(\"PC 3\")\n",
    "network.add_node(pc_3)\n",
    "\n",
    "pc_4 = Node(\"PC 4\")\n",
    "network.add_node(pc_4)\n",
    "\n",
    "pc_5 = Node(\"PC 5\")\n",
    "network.add_node(pc_5)\n",
    "\n",
    "pc_6 = Node(\"PC 6\")\n",
    "network.add_node(pc_6)\n",
    "\n",
    "server_1 = Node(\"Server 1\")\n",
    "network.add_node(server_1)\n",
    "\n",
    "server_2 = Node(\"Server 2\")\n",
    "network.add_node(server_2)"
   ]
  },
  {
   "cell_type": "code",
   "execution_count": null,
   "id": "6821c1b3-7ef3-443f-93f7-50f97ef582f2",
   "metadata": {
    "tags": []
   },
   "outputs": [],
   "source": [
    "network.show(verbose=True)"
   ]
  },
  {
   "cell_type": "markdown",
   "id": "3eecc02f-dbe3-49ff-86d0-7665962c3cb9",
   "metadata": {},
   "source": [
    "##### 3. Add the edges between Node's"
   ]
  },
  {
   "cell_type": "code",
   "execution_count": null,
   "id": "7ac1040e-703a-4309-96c7-b94ec005ad00",
   "metadata": {
    "tags": []
   },
   "outputs": [],
   "source": [
    "network.add_edge(router_1, switch_1)\n",
    "network.add_edge(switch_1, server_1)\n",
    "network.add_edge(switch_1, pc_1)\n",
    "network.add_edge(switch_1, pc_2)\n",
    "network.add_edge(switch_1, pc_3)\n",
    "network.add_edge(router_1, switch_2)\n",
    "network.add_edge(switch_2, server_2)\n",
    "network.add_edge(switch_2, pc_4)\n",
    "network.add_edge(switch_2, pc_5)\n",
    "network.add_edge(switch_2, pc_6)"
   ]
  },
  {
   "cell_type": "markdown",
   "id": "617ed93e-a6d6-49dd-9faf-bafa6807abed",
   "metadata": {},
   "source": [
    "##### 4. Reset the entry nodes, high value nodes, and vulnerability scores by calling `.setup()`."
   ]
  },
  {
   "cell_type": "code",
   "execution_count": null,
   "id": "1c842581-ba85-44d7-bdca-5dcf1be89e05",
   "metadata": {
    "tags": []
   },
   "outputs": [],
   "source": [
    "network.reset()"
   ]
  },
  {
   "cell_type": "code",
   "execution_count": null,
   "id": "a170eba9-0d6b-40ab-837a-ca6681955926",
   "metadata": {
    "tags": []
   },
   "outputs": [],
   "source": [
    "network.show(verbose=True)"
   ]
  }
 ],
 "metadata": {
  "kernelspec": {
   "display_name": "Python 3 (ipykernel)",
   "language": "python",
   "name": "python3"
  },
  "language_info": {
   "codemirror_mode": {
    "name": "ipython",
    "version": 3
   },
   "file_extension": ".py",
   "mimetype": "text/x-python",
   "name": "python",
   "nbconvert_exporter": "python",
   "pygments_lexer": "ipython3",
   "version": "3.10.9"
  }
 },
 "nbformat": 4,
 "nbformat_minor": 5
}
