{
 "cells": [
  {
   "cell_type": "code",
   "execution_count": null,
   "id": "3d343612-8e38-43f8-898e-95b85a96574c",
   "metadata": {
    "tags": []
   },
   "outputs": [],
   "source": [
    "from yawning_titan.networks.network_db import NetworkDB, NetworkSchema, NetworkQuery\n",
    "from yawning_titan.db.doc_metadata import DocMetadataSchema\n",
    "from yawning_titan.networks.network_creator import *"
   ]
  },
  {
   "cell_type": "markdown",
   "id": "6d560100-489d-4dba-a7f5-4b361212d67b",
   "metadata": {},
   "source": [
    "## Instantiate the NetworkDB"
   ]
  },
  {
   "cell_type": "code",
   "execution_count": null,
   "id": "ec6be433-0991-434e-a62a-4bfe24b19f7e",
   "metadata": {
    "tags": []
   },
   "outputs": [],
   "source": [
    "db = NetworkDB()"
   ]
  },
  {
   "cell_type": "markdown",
   "id": "f5f38efe-8be2-4751-a9da-93500c1c87f4",
   "metadata": {},
   "source": [
    "## Perform a count on the DB to check how many networks are available"
   ]
  },
  {
   "cell_type": "code",
   "execution_count": null,
   "id": "674d56b7-ef6c-4e3c-9cee-f341d2991aac",
   "metadata": {
    "tags": []
   },
   "outputs": [],
   "source": [
    "db.count()"
   ]
  },
  {
   "cell_type": "markdown",
   "id": "42cb59e0-7011-4057-937c-08bf42fbf1fc",
   "metadata": {},
   "source": [
    "## Show all networks in the DB"
   ]
  },
  {
   "cell_type": "code",
   "execution_count": null,
   "id": "c25647d2-a6a9-4a61-a6ae-f6239e1ba36a",
   "metadata": {
    "tags": []
   },
   "outputs": [],
   "source": [
    "db.show(True)"
   ]
  },
  {
   "cell_type": "markdown",
   "id": "4762be8c-7b54-40a7-8a22-f4290ba56fc6",
   "metadata": {},
   "source": [
    "## Retrieve a network by passing its uuid to `.get`"
   ]
  },
  {
   "cell_type": "code",
   "execution_count": null,
   "id": "f3d910f8-a1fc-4cd9-b032-03b4332d824c",
   "metadata": {
    "tags": []
   },
   "outputs": [],
   "source": [
    "network = db.get(\"b3cd9dfd-b178-415d-93f0-c9e279b3c511\")\n",
    "network"
   ]
  },
  {
   "cell_type": "markdown",
   "id": "c9e31995-5495-4941-9919-a67a8f278d71",
   "metadata": {},
   "source": [
    "## Instantiate a new Network and save it to the DB"
   ]
  },
  {
   "cell_type": "code",
   "execution_count": null,
   "id": "c2604419-0fc5-4f39-b09d-03799640c254",
   "metadata": {
    "tags": []
   },
   "outputs": [],
   "source": [
    "network = create_star()\n",
    "network.set_random_entry_nodes = True\n",
    "network.num_of_random_entry_nodes = 1\n",
    "network.reset_random_entry_nodes()\n",
    "network.set_random_high_value_nodes = True\n",
    "network.num_of_random_high_value_nodes = 3\n",
    "network.reset_random_high_value_nodes()\n",
    "network.set_random_vulnerabilities = True\n",
    "network.reset_random_vulnerabilities()"
   ]
  },
  {
   "cell_type": "code",
   "execution_count": null,
   "id": "758af0f4-b2fa-4996-999d-16025dac8d8e",
   "metadata": {
    "tags": []
   },
   "outputs": [],
   "source": [
    "db.insert(\n",
    "    network=network,\n",
    "    name=\"Custom star network\",\n",
    "    description=\"A custom start network with 1 entry node and 3 HVNs\",\n",
    "    author=\"John Doe\"\n",
    ")"
   ]
  },
  {
   "cell_type": "code",
   "execution_count": null,
   "id": "b774d366-3d79-4dff-872f-36507a46448b",
   "metadata": {},
   "outputs": [],
   "source": [
    "db.show(True)"
   ]
  },
  {
   "cell_type": "markdown",
   "id": "44494779-25dd-4a08-8abc-51376bd719db",
   "metadata": {},
   "source": [
    "## Query the DB using the `DocMetadataSchema` for all network by a given author"
   ]
  },
  {
   "cell_type": "code",
   "execution_count": null,
   "id": "61e2a8da-395a-45a1-9ea5-bc0556f71e4f",
   "metadata": {
    "tags": []
   },
   "outputs": [],
   "source": [
    "db.search(DocMetadataSchema.AUTHOR == \"John Doe\")"
   ]
  },
  {
   "cell_type": "code",
   "execution_count": null,
   "id": "02fb37c4-03eb-487b-96d7-fb0b0a19471e",
   "metadata": {
    "tags": []
   },
   "outputs": [],
   "source": [
    "db.search(DocMetadataSchema.AUTHOR == \"dstl/YAWNING-TITAN\")"
   ]
  },
  {
   "cell_type": "markdown",
   "id": "be6b18df-605c-487c-bab2-49b8163f35f9",
   "metadata": {},
   "source": [
    "## Query the DB using the NetworkSchema "
   ]
  },
  {
   "cell_type": "code",
   "execution_count": null,
   "id": "f1c7f869-d5c6-4b57-b98c-db3920ca0527",
   "metadata": {
    "tags": []
   },
   "outputs": [],
   "source": [
    "db.search(NetworkSchema.NUM_OF_RANDOM_ENTRY_NODES == 1)"
   ]
  },
  {
   "cell_type": "markdown",
   "id": "c47f770d-3cf9-41c9-936b-f361ac78e706",
   "metadata": {},
   "source": [
    "## Query the DB using the `NetworkQuery` built-in functions"
   ]
  },
  {
   "cell_type": "code",
   "execution_count": null,
   "id": "fee4d9f9-a96e-48f5-aa7c-36da11c0fffb",
   "metadata": {
    "tags": []
   },
   "outputs": [],
   "source": [
    "db.search(NetworkQuery.num_of_nodes(18))"
   ]
  },
  {
   "cell_type": "code",
   "execution_count": null,
   "id": "2b1c1b45-72f8-431f-9572-87eba183b9b4",
   "metadata": {
    "tags": []
   },
   "outputs": [],
   "source": [
    "db.search(NetworkQuery.num_of_entry_nodes(1))"
   ]
  },
  {
   "cell_type": "code",
   "execution_count": null,
   "id": "4921530e-7475-44f9-90a1-03ec89e4a33d",
   "metadata": {
    "tags": []
   },
   "outputs": [],
   "source": [
    "db.search(NetworkQuery.num_of_high_value_nodes(3))"
   ]
  },
  {
   "cell_type": "markdown",
   "id": "bbd20f0f-e517-48c2-b2c6-9ada5d5c6ab6",
   "metadata": {},
   "source": [
    "## Chain `NetworkQuery` functions together for more advanced querying"
   ]
  },
  {
   "cell_type": "code",
   "execution_count": null,
   "id": "3725b561-651a-475e-96ec-ea4b8c6f248f",
   "metadata": {
    "tags": []
   },
   "outputs": [],
   "source": [
    "db.search(\n",
    "    (\n",
    "        NetworkQuery.num_of_entry_nodes(2)\n",
    "        and NetworkQuery.num_of_high_value_nodes(2)\n",
    "    )\n",
    ")"
   ]
  },
  {
   "cell_type": "code",
   "execution_count": null,
   "id": "00fb94ae-02e7-48fd-81f8-e8c3df0a7cdd",
   "metadata": {
    "tags": []
   },
   "outputs": [],
   "source": [
    "db.search(\n",
    "    (\n",
    "        NetworkQuery.num_of_entry_nodes(2)\n",
    "        and NetworkQuery.num_of_high_value_nodes(3)\n",
    "    )\n",
    ")"
   ]
  },
  {
   "cell_type": "markdown",
   "id": "08f15afc-32d7-4bb8-959f-07514dd50ac4",
   "metadata": {},
   "source": [
    "## Make changes to a `Network` and update it in the DB"
   ]
  },
  {
   "cell_type": "code",
   "execution_count": null,
   "id": "8843c1aa-5e3c-43a8-b849-df3f7d719bb2",
   "metadata": {
    "tags": []
   },
   "outputs": [],
   "source": [
    "network = db.search(DocMetadataSchema.AUTHOR == \"John Doe\")[0]\n",
    "network.num_of_random_entry_nodes = 2\n",
    "network.reset_random_entry_nodes()\n",
    "db.update(\n",
    "    network=network,\n",
    "    description=\"A custom start network with 2 entry node and 3 HVNs\",\n",
    ")"
   ]
  },
  {
   "cell_type": "code",
   "execution_count": null,
   "id": "f7e2b782-db80-4709-a43e-0495068e4117",
   "metadata": {},
   "outputs": [],
   "source": [
    "db.show(True)"
   ]
  },
  {
   "cell_type": "code",
   "execution_count": null,
   "id": "c1372f4e-e8d2-46ac-af7e-3024c6d5744d",
   "metadata": {
    "tags": []
   },
   "outputs": [],
   "source": [
    "db.search(NetworkQuery.num_of_entry_nodes(1))"
   ]
  },
  {
   "cell_type": "code",
   "execution_count": null,
   "id": "d9350fe1-0fd5-4fce-9f63-338a35a1ea3f",
   "metadata": {
    "tags": []
   },
   "outputs": [],
   "source": [
    "db.search(NetworkQuery.num_of_entry_nodes(2))"
   ]
  },
  {
   "cell_type": "markdown",
   "id": "7e896ea5-f5a2-4554-b6be-d39283de8c53",
   "metadata": {},
   "source": [
    "## Remove a `Network` from the DB"
   ]
  },
  {
   "cell_type": "code",
   "execution_count": null,
   "id": "64694cb9-4d45-4a35-9a78-bfc8817d7099",
   "metadata": {
    "tags": []
   },
   "outputs": [],
   "source": [
    "network = db.search(DocMetadataSchema.AUTHOR == \"John Doe\")[0]\n",
    "db.remove(network)"
   ]
  },
  {
   "cell_type": "code",
   "execution_count": null,
   "id": "cc590aaa-4280-4a6c-8ed3-9a08842c98ef",
   "metadata": {
    "tags": []
   },
   "outputs": [],
   "source": [
    "db.search(DocMetadataSchema.AUTHOR == \"John Doe\")"
   ]
  },
  {
   "cell_type": "code",
   "execution_count": null,
   "id": "ac38bd51-7fc7-43e4-90d3-1065fc6b158c",
   "metadata": {
    "tags": []
   },
   "outputs": [],
   "source": [
    "db.show(True)"
   ]
  }
 ],
 "metadata": {
  "kernelspec": {
   "display_name": "Python 3 (ipykernel)",
   "language": "python",
   "name": "python3"
  },
  "language_info": {
   "codemirror_mode": {
    "name": "ipython",
    "version": 3
   },
   "file_extension": ".py",
   "mimetype": "text/x-python",
   "name": "python",
   "nbconvert_exporter": "python",
   "pygments_lexer": "ipython3",
   "version": "3.10.9"
  }
 },
 "nbformat": 4,
 "nbformat_minor": 5
}
